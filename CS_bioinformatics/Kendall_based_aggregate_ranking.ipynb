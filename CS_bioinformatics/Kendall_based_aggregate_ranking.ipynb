{
 "cells": [
  {
   "cell_type": "markdown",
   "metadata": {},
   "source": [
    "# author - Bhukar Rohan\n",
    "# CS 4710"
   ]
  },
  {
   "cell_type": "markdown",
   "metadata": {},
   "source": [
    "## Notes :- \n",
    "### - I have not used any library for the solution to this assignment, it might seem a bit lengthy \n",
    "### at places with writing my own methods.\n",
    "### - The assignment.xlsx file on Canvas that we were supposed to test with, I have converted/saved it as  .csv  , \n",
    "### and then used for this assignment.\n",
    "### - I completely understand that using pandas , i can input excel files very easily. Its just that without pandas\n",
    "### correcting the readability and conversion from utf-8 format was tricky, so converted and used .csv"
   ]
  },
  {
   "cell_type": "code",
   "execution_count": null,
   "metadata": {},
   "outputs": [],
   "source": []
  },
  {
   "cell_type": "markdown",
   "metadata": {},
   "source": [
    "# Part a. Compute the average-score-based ranking."
   ]
  },
  {
   "cell_type": "markdown",
   "metadata": {},
   "source": [
    "###     1.  Compute for each gene the average score over all n experiments."
   ]
  },
  {
   "cell_type": "markdown",
   "metadata": {},
   "source": [
    "### Output: Print the genes in alphabetical order and corresponding average scores"
   ]
  },
  {
   "cell_type": "code",
   "execution_count": 50,
   "metadata": {},
   "outputs": [],
   "source": [
    "def compute_avg_score_ranking(file, part: int):\n",
    "    #read the file from current directory\n",
    "    with open(file,'r') as f:\n",
    "        table = f.readlines()\n",
    "    gene_dict = dict.fromkeys([x.split('\\t')[0] for x in table[1:]])\n",
    "    for row in table[1:]:\n",
    "        for gene in gene_dict.keys():\n",
    "            if gene in row:\n",
    "                gene_dict[gene] = sum([float(x) for x in row.split('\\t')[1:]])/len(row.split('\\t')[1:])\n",
    "    if part == 1:\n",
    "        [print(key,'\\t',gene_dict[key]) for key in sorted(gene_dict.keys())][0]\n",
    "    elif part == 2:\n",
    "        gene_dict = {k: v for k, v in sorted(gene_dict.items(), key=lambda item: item[1])}\n",
    "        [print(key) for key in gene_dict.keys()][0]\n",
    "    else: print(\"Invalid choice\")\n",
    "    return"
   ]
  },
  {
   "cell_type": "code",
   "execution_count": 53,
   "metadata": {},
   "outputs": [
    {
     "name": "stdout",
     "output_type": "stream",
     "text": [
      "Enter the name of the input table file : assignment3_data.csv\n",
      "Enter number for displaying the solution of Part-a of assignment (1/2) : 1\n",
      "ACE \t 0.136037955\n",
      "AKT1 \t 0.14386341225\n",
      "APOE \t 0.14431642125\n",
      "APP \t 0.053955776750000004\n",
      "AR \t 0.13142150675\n",
      "AUTS2 \t 0.20221727350000002\n",
      "AVPR1A \t 0.13669842399999999\n",
      "BDNF \t 0.14126646025\n",
      "CCND1 \t 0.163421894\n",
      "DRD2 \t 0.06080663725\n",
      "EGFR \t 0.14276723475\n",
      "ELN \t 0.15456102124999999\n",
      "EP300 \t 0.048301091\n"
     ]
    }
   ],
   "source": [
    "#testing the method for Part a. (1)\n",
    "file = input('Enter the name of the input table file : ')\n",
    "choice = int(input('Enter number for displaying the solution of Part-a of assignment (1/2) : '))\n",
    "compute_avg_score_ranking(file=file, part=choice)"
   ]
  },
  {
   "cell_type": "markdown",
   "metadata": {},
   "source": [
    "### 2.    Compute the ranking of the input genes induces by the average scores. In other words, sort the genes\n",
    "###      according to their average score (in non-decreasing order). This is the average-score-based ranking. \n",
    "### Output: Print the average-score-based ranking (only the names of the genes)"
   ]
  },
  {
   "cell_type": "code",
   "execution_count": 55,
   "metadata": {},
   "outputs": [
    {
     "name": "stdout",
     "output_type": "stream",
     "text": [
      "Enter the name of the input table file : assignment3_data.csv\n",
      "Enter number for displaying the solution of Part-a of assignment (1/2) : 2\n",
      "EP300\n",
      "APP\n",
      "DRD2\n",
      "AR\n",
      "ACE\n",
      "AVPR1A\n",
      "BDNF\n",
      "EGFR\n",
      "AKT1\n",
      "APOE\n",
      "ELN\n",
      "CCND1\n",
      "AUTS2\n"
     ]
    }
   ],
   "source": [
    "#testing the method for Part a. (2)\n",
    "file = input('Enter the name of the input table file : ')\n",
    "choice = int(input('Enter number for displaying the solution of Part-a of assignment (1/2) : '))\n",
    "compute_avg_score_ranking(file=file, part=choice)"
   ]
  },
  {
   "cell_type": "code",
   "execution_count": null,
   "metadata": {},
   "outputs": [],
   "source": []
  },
  {
   "cell_type": "markdown",
   "metadata": {},
   "source": [
    "# Part b. Compute the aggregate average ranking ."
   ]
  },
  {
   "cell_type": "code",
   "execution_count": 146,
   "metadata": {},
   "outputs": [],
   "source": [
    "\n",
    "def compute_aggregate_avg_ranking(file, part: int):\n",
    "    #read the file from current directory\n",
    "    with open(file,'r') as f:\n",
    "        table = f.readlines()\n",
    "    gene_dict = dict.fromkeys([x.split('\\t')[0] for x in table[1:]])\n",
    "    rank_dict = dict.fromkeys([x.split('\\t')[0] for x in table[1:]],[])\n",
    "    table = [x.replace('\\n','').split('\\t') for x in table[1:]]\n",
    "    for i in range(len(table[0])-1):\n",
    "        for k in gene_dict.keys():\n",
    "            gene_dict[k] = [float([x[i+1] for x in table if k in x][0])]\n",
    "        a = {k: v for k, v in sorted(gene_dict.items(), key=lambda item: item[1])}\n",
    "        gene_dict = {key: [rank] for rank, key in enumerate(sorted(gene_dict, key=gene_dict.get, reverse=False), 1)}\n",
    "        c = a.copy()\n",
    "        for k in a.keys():\n",
    "            c[k] = a[k]+gene_dict[k]\n",
    "        for k in c.keys():\n",
    "            value = c[k][0]\n",
    "            counter = 1\n",
    "            pos = [c[k][1]]\n",
    "            for i,j in c.items():\n",
    "                if value == j[0] and k != i:\n",
    "                    counter+=1\n",
    "                    pos.append(j[1])\n",
    "            c[k].append(sum(pos)/counter)\n",
    "        for k in rank_dict.keys():\n",
    "            rank_dict[k] = rank_dict[k]+[c[k][2]]\n",
    "    \n",
    "    if part == 1:\n",
    "        print(\"Genes and the ranking table : \")\n",
    "        for k in rank_dict.keys():\n",
    "            y = [k]\n",
    "            for i in range(len(rank_dict[k])):\n",
    "                y = y+['\\t'+str(rank_dict[k][i])]\n",
    "            print(''.join(y))\n",
    "    elif part == 2:\n",
    "        for k in rank_dict.keys():\n",
    "            rank_dict[k] = sum(rank_dict[k])/len(rank_dict[k])\n",
    "        rank_dict = {key: rank for rank, key in enumerate(sorted(rank_dict, key=rank_dict.get, reverse=False), 1)}\n",
    "        [print(k) for k in rank_dict.keys()][0]\n",
    "        \n",
    "    return"
   ]
  },
  {
   "cell_type": "code",
   "execution_count": 124,
   "metadata": {},
   "outputs": [
    {
     "name": "stdout",
     "output_type": "stream",
     "text": [
      "Enter the name of the input table file : assignment3_data.csv\n",
      "Enter number for displaying the solution of Part-b of assignment (1/2) : 1\n",
      "Genes and the ranking table : \n",
      "ACE\t4.5\t9.5\t5.0\t11.0\n",
      "AKT1\t11.5\t4.5\t6.0\t6.5\n",
      "APOE\t9.5\t4.5\t7.0\t11.0\n",
      "APP\t6.0\t4.5\t1.0\t2.0\n",
      "AR\t3.0\t4.5\t8.0\t6.5\n",
      "AUTS2\t13.0\t11.0\t12.0\t11.0\n",
      "AVPR1A\t4.5\t9.5\t9.0\t6.5\n",
      "BDNF\t8.0\t4.5\t3.0\t11.0\n",
      "CCND1\t11.5\t12.0\t10.0\t6.5\n",
      "DRD2\t2.0\t4.5\t2.0\t3.5\n",
      "EGFR\t9.5\t4.5\t4.0\t11.0\n",
      "ELN\t7.0\t13.0\t13.0\t3.5\n",
      "EP300\t1.0\t4.5\t11.0\t1.0\n"
     ]
    }
   ],
   "source": [
    "#testing the method for Part b. (1)\n",
    "file = input('Enter the name of the input table file : ')\n",
    "choice = int(input('Enter number for displaying the solution of Part-b of assignment (1/2) : '))\n",
    "compute_aggregate_avg_ranking(file=file, part=choice)"
   ]
  },
  {
   "cell_type": "code",
   "execution_count": 147,
   "metadata": {},
   "outputs": [
    {
     "name": "stdout",
     "output_type": "stream",
     "text": [
      "Enter the name of the input table file : assignment3_data.csv\n",
      "Enter number for displaying the solution of Part-b of assignment (1/2) : 2\n",
      "DRD2\n",
      "APP\n",
      "EP300\n",
      "AR\n",
      "BDNF\n",
      "AKT1\n",
      "EGFR\n",
      "AVPR1A\n",
      "ACE\n",
      "APOE\n",
      "ELN\n",
      "CCND1\n",
      "AUTS2\n"
     ]
    }
   ],
   "source": [
    "#testing the method for Part b. (2)\n",
    "file = input('Enter the name of the input table file : ')\n",
    "choice = int(input('Enter number for displaying the solution of Part-b of assignment (1/2) : '))\n",
    "compute_aggregate_avg_ranking(file=file, part=choice)"
   ]
  },
  {
   "cell_type": "code",
   "execution_count": null,
   "metadata": {},
   "outputs": [],
   "source": []
  },
  {
   "cell_type": "markdown",
   "metadata": {},
   "source": [
    "# Part c. Kendall based aggregate ranking"
   ]
  },
  {
   "cell_type": "code",
   "execution_count": 148,
   "metadata": {},
   "outputs": [],
   "source": [
    "\n",
    "def compute_kendall_agg_ranking(file):\n",
    "    #read the file from current directory\n",
    "    with open(file,'r') as f:\n",
    "        table = f.readlines()\n",
    "    columns = table[0]\n",
    "    gene_dict = dict.fromkeys([x.split('\\t')[0] for x in table[1:]])\n",
    "    rank_dict = dict.fromkeys([x.split('\\t')[0] for x in table[1:]],[])\n",
    "    table = [x.replace('\\n','').split('\\t') for x in table[1:]]\n",
    "    for i in range(len(table[0])-1):\n",
    "        for k in gene_dict.keys():\n",
    "            gene_dict[k] = [float([x[i+1] for x in table if k in x][0])]\n",
    "        a = {k: v for k, v in sorted(gene_dict.items(), key=lambda item: item[1])}\n",
    "        gene_dict = {key: [rank] for rank, key in enumerate(sorted(gene_dict, key=gene_dict.get, reverse=False), 1)}\n",
    "        c = a.copy()\n",
    "        for k in a.keys():\n",
    "            c[k] = a[k]+gene_dict[k]\n",
    "        for k in c.keys():\n",
    "            value = c[k][0]\n",
    "            counter = 1\n",
    "            pos = [c[k][1]]\n",
    "            for i,j in c.items():\n",
    "                if value == j[0] and k != i:\n",
    "                    counter+=1\n",
    "                    pos.append(j[1])\n",
    "            c[k].append(sum(pos)/counter)\n",
    "        for k in rank_dict.keys():\n",
    "            rank_dict[k] = rank_dict[k]+[c[k][2]]\n",
    "            \n",
    "    rankings = dict()\n",
    "    for r in range(len([elem for elem in rank_dict.values()][0])):\n",
    "        rankings[f'r{r+1}'] = [x[r] for x in rank_dict.values()]\n",
    "    pair_dict, dist_dict = dict(), dict()\n",
    "    for k in range(len(rankings.keys())):\n",
    "        pair_dict[f'p{k+1}'] = [(rankings[f'r{k+1}'][i], rankings[f'r{k+1}'][j]) for i in range(len(rankings[f'r{k+1}'])) for j in range(i+1, len(rankings[f'r{k+1}']))]           \n",
    "    for i in pair_dict.keys():\n",
    "        dist_dict[i] = 0\n",
    "        for j in range(len(pair_dict.keys())):\n",
    "            if i != 'p'+str(j+1):\n",
    "                dist_dict[i] += len(list(set(pair_dict[i])-set(pair_dict[f'p{j+1}'])))\n",
    "    result = min(dist_dict, key=dist_dict.get)\n",
    "    print('The Kendall based aggregate ranking for the Genes is the column with score for ',columns.split('\\t')[int(result[1])])\n",
    "    [print(x) for x in rankings[f'r{int(result[1])}']][0]\n",
    "    return"
   ]
  },
  {
   "cell_type": "code",
   "execution_count": 149,
   "metadata": {
    "scrolled": true
   },
   "outputs": [
    {
     "name": "stdout",
     "output_type": "stream",
     "text": [
      "Enter the name of the input table file : assignment3_data.csv\n",
      "The Kendall based aggregate ranking for the Genes is the column with score for  GO: Biological Process\n",
      "9.5\n",
      "4.5\n",
      "4.5\n",
      "4.5\n",
      "4.5\n",
      "11.0\n",
      "9.5\n",
      "4.5\n",
      "12.0\n",
      "4.5\n",
      "4.5\n",
      "13.0\n",
      "4.5\n"
     ]
    }
   ],
   "source": [
    "#testing the method for Part c. (1)\n",
    "file = input('Enter the name of the input table file : ')\n",
    "compute_kendall_agg_ranking(file=file)"
   ]
  },
  {
   "cell_type": "code",
   "execution_count": null,
   "metadata": {},
   "outputs": [],
   "source": []
  },
  {
   "cell_type": "code",
   "execution_count": null,
   "metadata": {},
   "outputs": [],
   "source": []
  }
 ],
 "metadata": {
  "kernelspec": {
   "display_name": "Python 3",
   "language": "python",
   "name": "python3"
  },
  "language_info": {
   "codemirror_mode": {
    "name": "ipython",
    "version": 3
   },
   "file_extension": ".py",
   "mimetype": "text/x-python",
   "name": "python",
   "nbconvert_exporter": "python",
   "pygments_lexer": "ipython3",
   "version": "3.7.3"
  }
 },
 "nbformat": 4,
 "nbformat_minor": 2
}
